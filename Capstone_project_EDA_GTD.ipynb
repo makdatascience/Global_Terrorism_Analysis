{
  "nbformat": 4,
  "nbformat_minor": 0,
  "metadata": {
    "colab": {
      "provenance": [],
      "collapsed_sections": [],
      "authorship_tag": "ABX9TyM7QfOalbaPMVlrSxXOHBdy",
      "include_colab_link": true
    },
    "kernelspec": {
      "name": "python3",
      "display_name": "Python 3"
    },
    "language_info": {
      "name": "python"
    }
  },
  "cells": [
    {
      "cell_type": "markdown",
      "metadata": {
        "id": "view-in-github",
        "colab_type": "text"
      },
      "source": [
        "<a href=\"https://colab.research.google.com/github/makdatascience/Global_Terrorism_Analysis/blob/main/Capstone_project_EDA_GTD.ipynb\" target=\"_parent\"><img src=\"https://colab.research.google.com/assets/colab-badge.svg\" alt=\"Open In Colab\"/></a>"
      ]
    },
    {
      "cell_type": "code",
      "execution_count": 10,
      "metadata": {
        "id": "g5WezUvQ1fXR"
      },
      "outputs": [],
      "source": []
    },
    {
      "cell_type": "markdown",
      "metadata": {
        "id": "uiM68ZIexYgO"
      },
      "source": [
        "## <b> The Global Terrorism Database (GTD) is an open-source database including information on terrorist attacks around the world from 1970 through 2017. The GTD includes systematic data on domestic as well as international terrorist incidents that have occurred during this time period and now includes more than 180,000 attacks. The database is maintained by researchers at the National Consortium for the Study of Terrorism and Responses to Terrorism (START), headquartered at the University of Maryland.</b>\n",
        "\n",
        "# <b> Explore and analyze the data to discover key findings pertaining to terrorist activities. </b>\n"
      ]
    },
    {
      "cell_type": "code",
      "execution_count": 11,
      "metadata": {
        "id": "iZeakPhpFIs0"
      },
      "outputs": [],
      "source": [
        "# importing libraries\n",
        "import pandas as pd\n",
        "import numpy as np\n",
        "import plotly.express as px\n",
        "import matplotlib.pyplot as plt\n",
        "import seaborn as sns\n",
        "#to supress warnings\n",
        "import warnings\n",
        "warnings.filterwarnings(\"ignore\")\n",
        "%matplotlib inline"
      ]
    },
    {
      "cell_type": "markdown",
      "metadata": {
        "id": "QNlC1D9QxXbL"
      },
      "source": [
        "<b>1)  GTD Handbook Link :</b> https://drive.google.com/file/d/1VG7Mo7Zh5D0oNxsX1Iz5b4NIMCCB-Uu4/view?usp=sharing\n",
        "\n",
        "<b>2) Dataset link : </b> https://drive.google.com/file/d/1Z1tOCLgiOXQjNNBxp7SdVwZ3s1sQM3LD/view?usp=sharing"
      ]
    },
    {
      "cell_type": "code",
      "execution_count": 12,
      "metadata": {
        "colab": {
          "base_uri": "https://localhost:8080/"
        },
        "id": "rlHkXbVcGDDm",
        "outputId": "3b2ea46b-2c73-4a70-b6bd-15edec0a49cb"
      },
      "outputs": [
        {
          "output_type": "stream",
          "name": "stdout",
          "text": [
            "Drive already mounted at /content/drive; to attempt to forcibly remount, call drive.mount(\"/content/drive\", force_remount=True).\n"
          ]
        }
      ],
      "source": [
        "from google.colab import drive\n",
        "drive.mount('/content/drive')"
      ]
    },
    {
      "cell_type": "code",
      "execution_count": 13,
      "metadata": {
        "id": "XUIAq6ETGMdP"
      },
      "outputs": [],
      "source": [
        "# loading dataframe from csv file\n",
        "df=pd.read_csv(\"/content/drive/MyDrive/Colab Notebooks/Capstone projects/Capstone Project_1_EDA/Global_Terrorism_Data.csv\" ,encoding=\"ISO-8859-1\")\n",
        "# df=pd.readcsv(\"\")"
      ]
    },
    {
      "cell_type": "code",
      "execution_count": 14,
      "metadata": {
        "colab": {
          "base_uri": "https://localhost:8080/",
          "height": 317
        },
        "id": "AEKOmCOWGsrK",
        "outputId": "cd416336-3e04-46eb-8005-9c857b04abc2"
      },
      "outputs": [
        {
          "output_type": "execute_result",
          "data": {
            "text/plain": [
              "        eventid  iyear  imonth  iday approxdate  extended resolution  country  \\\n",
              "0  197000000001   1970       7     2        NaN         0        NaN       58   \n",
              "1  197000000002   1970       0     0        NaN         0        NaN      130   \n",
              "2  197001000001   1970       1     0        NaN         0        NaN      160   \n",
              "3  197001000002   1970       1     0        NaN         0        NaN       78   \n",
              "4  197001000003   1970       1     0        NaN         0        NaN      101   \n",
              "\n",
              "          country_txt  region  ... addnotes scite1 scite2  scite3  dbsource  \\\n",
              "0  Dominican Republic       2  ...      NaN    NaN    NaN     NaN      PGIS   \n",
              "1              Mexico       1  ...      NaN    NaN    NaN     NaN      PGIS   \n",
              "2         Philippines       5  ...      NaN    NaN    NaN     NaN      PGIS   \n",
              "3              Greece       8  ...      NaN    NaN    NaN     NaN      PGIS   \n",
              "4               Japan       4  ...      NaN    NaN    NaN     NaN      PGIS   \n",
              "\n",
              "   INT_LOG  INT_IDEO INT_MISC INT_ANY  related  \n",
              "0        0         0        0       0      NaN  \n",
              "1        0         1        1       1      NaN  \n",
              "2       -9        -9        1       1      NaN  \n",
              "3       -9        -9        1       1      NaN  \n",
              "4       -9        -9        1       1      NaN  \n",
              "\n",
              "[5 rows x 135 columns]"
            ],
            "text/html": [
              "\n",
              "  <div id=\"df-430dc22d-1072-4543-8903-c74459dc2b15\">\n",
              "    <div class=\"colab-df-container\">\n",
              "      <div>\n",
              "<style scoped>\n",
              "    .dataframe tbody tr th:only-of-type {\n",
              "        vertical-align: middle;\n",
              "    }\n",
              "\n",
              "    .dataframe tbody tr th {\n",
              "        vertical-align: top;\n",
              "    }\n",
              "\n",
              "    .dataframe thead th {\n",
              "        text-align: right;\n",
              "    }\n",
              "</style>\n",
              "<table border=\"1\" class=\"dataframe\">\n",
              "  <thead>\n",
              "    <tr style=\"text-align: right;\">\n",
              "      <th></th>\n",
              "      <th>eventid</th>\n",
              "      <th>iyear</th>\n",
              "      <th>imonth</th>\n",
              "      <th>iday</th>\n",
              "      <th>approxdate</th>\n",
              "      <th>extended</th>\n",
              "      <th>resolution</th>\n",
              "      <th>country</th>\n",
              "      <th>country_txt</th>\n",
              "      <th>region</th>\n",
              "      <th>...</th>\n",
              "      <th>addnotes</th>\n",
              "      <th>scite1</th>\n",
              "      <th>scite2</th>\n",
              "      <th>scite3</th>\n",
              "      <th>dbsource</th>\n",
              "      <th>INT_LOG</th>\n",
              "      <th>INT_IDEO</th>\n",
              "      <th>INT_MISC</th>\n",
              "      <th>INT_ANY</th>\n",
              "      <th>related</th>\n",
              "    </tr>\n",
              "  </thead>\n",
              "  <tbody>\n",
              "    <tr>\n",
              "      <th>0</th>\n",
              "      <td>197000000001</td>\n",
              "      <td>1970</td>\n",
              "      <td>7</td>\n",
              "      <td>2</td>\n",
              "      <td>NaN</td>\n",
              "      <td>0</td>\n",
              "      <td>NaN</td>\n",
              "      <td>58</td>\n",
              "      <td>Dominican Republic</td>\n",
              "      <td>2</td>\n",
              "      <td>...</td>\n",
              "      <td>NaN</td>\n",
              "      <td>NaN</td>\n",
              "      <td>NaN</td>\n",
              "      <td>NaN</td>\n",
              "      <td>PGIS</td>\n",
              "      <td>0</td>\n",
              "      <td>0</td>\n",
              "      <td>0</td>\n",
              "      <td>0</td>\n",
              "      <td>NaN</td>\n",
              "    </tr>\n",
              "    <tr>\n",
              "      <th>1</th>\n",
              "      <td>197000000002</td>\n",
              "      <td>1970</td>\n",
              "      <td>0</td>\n",
              "      <td>0</td>\n",
              "      <td>NaN</td>\n",
              "      <td>0</td>\n",
              "      <td>NaN</td>\n",
              "      <td>130</td>\n",
              "      <td>Mexico</td>\n",
              "      <td>1</td>\n",
              "      <td>...</td>\n",
              "      <td>NaN</td>\n",
              "      <td>NaN</td>\n",
              "      <td>NaN</td>\n",
              "      <td>NaN</td>\n",
              "      <td>PGIS</td>\n",
              "      <td>0</td>\n",
              "      <td>1</td>\n",
              "      <td>1</td>\n",
              "      <td>1</td>\n",
              "      <td>NaN</td>\n",
              "    </tr>\n",
              "    <tr>\n",
              "      <th>2</th>\n",
              "      <td>197001000001</td>\n",
              "      <td>1970</td>\n",
              "      <td>1</td>\n",
              "      <td>0</td>\n",
              "      <td>NaN</td>\n",
              "      <td>0</td>\n",
              "      <td>NaN</td>\n",
              "      <td>160</td>\n",
              "      <td>Philippines</td>\n",
              "      <td>5</td>\n",
              "      <td>...</td>\n",
              "      <td>NaN</td>\n",
              "      <td>NaN</td>\n",
              "      <td>NaN</td>\n",
              "      <td>NaN</td>\n",
              "      <td>PGIS</td>\n",
              "      <td>-9</td>\n",
              "      <td>-9</td>\n",
              "      <td>1</td>\n",
              "      <td>1</td>\n",
              "      <td>NaN</td>\n",
              "    </tr>\n",
              "    <tr>\n",
              "      <th>3</th>\n",
              "      <td>197001000002</td>\n",
              "      <td>1970</td>\n",
              "      <td>1</td>\n",
              "      <td>0</td>\n",
              "      <td>NaN</td>\n",
              "      <td>0</td>\n",
              "      <td>NaN</td>\n",
              "      <td>78</td>\n",
              "      <td>Greece</td>\n",
              "      <td>8</td>\n",
              "      <td>...</td>\n",
              "      <td>NaN</td>\n",
              "      <td>NaN</td>\n",
              "      <td>NaN</td>\n",
              "      <td>NaN</td>\n",
              "      <td>PGIS</td>\n",
              "      <td>-9</td>\n",
              "      <td>-9</td>\n",
              "      <td>1</td>\n",
              "      <td>1</td>\n",
              "      <td>NaN</td>\n",
              "    </tr>\n",
              "    <tr>\n",
              "      <th>4</th>\n",
              "      <td>197001000003</td>\n",
              "      <td>1970</td>\n",
              "      <td>1</td>\n",
              "      <td>0</td>\n",
              "      <td>NaN</td>\n",
              "      <td>0</td>\n",
              "      <td>NaN</td>\n",
              "      <td>101</td>\n",
              "      <td>Japan</td>\n",
              "      <td>4</td>\n",
              "      <td>...</td>\n",
              "      <td>NaN</td>\n",
              "      <td>NaN</td>\n",
              "      <td>NaN</td>\n",
              "      <td>NaN</td>\n",
              "      <td>PGIS</td>\n",
              "      <td>-9</td>\n",
              "      <td>-9</td>\n",
              "      <td>1</td>\n",
              "      <td>1</td>\n",
              "      <td>NaN</td>\n",
              "    </tr>\n",
              "  </tbody>\n",
              "</table>\n",
              "<p>5 rows × 135 columns</p>\n",
              "</div>\n",
              "      <button class=\"colab-df-convert\" onclick=\"convertToInteractive('df-430dc22d-1072-4543-8903-c74459dc2b15')\"\n",
              "              title=\"Convert this dataframe to an interactive table.\"\n",
              "              style=\"display:none;\">\n",
              "        \n",
              "  <svg xmlns=\"http://www.w3.org/2000/svg\" height=\"24px\"viewBox=\"0 0 24 24\"\n",
              "       width=\"24px\">\n",
              "    <path d=\"M0 0h24v24H0V0z\" fill=\"none\"/>\n",
              "    <path d=\"M18.56 5.44l.94 2.06.94-2.06 2.06-.94-2.06-.94-.94-2.06-.94 2.06-2.06.94zm-11 1L8.5 8.5l.94-2.06 2.06-.94-2.06-.94L8.5 2.5l-.94 2.06-2.06.94zm10 10l.94 2.06.94-2.06 2.06-.94-2.06-.94-.94-2.06-.94 2.06-2.06.94z\"/><path d=\"M17.41 7.96l-1.37-1.37c-.4-.4-.92-.59-1.43-.59-.52 0-1.04.2-1.43.59L10.3 9.45l-7.72 7.72c-.78.78-.78 2.05 0 2.83L4 21.41c.39.39.9.59 1.41.59.51 0 1.02-.2 1.41-.59l7.78-7.78 2.81-2.81c.8-.78.8-2.07 0-2.86zM5.41 20L4 18.59l7.72-7.72 1.47 1.35L5.41 20z\"/>\n",
              "  </svg>\n",
              "      </button>\n",
              "      \n",
              "  <style>\n",
              "    .colab-df-container {\n",
              "      display:flex;\n",
              "      flex-wrap:wrap;\n",
              "      gap: 12px;\n",
              "    }\n",
              "\n",
              "    .colab-df-convert {\n",
              "      background-color: #E8F0FE;\n",
              "      border: none;\n",
              "      border-radius: 50%;\n",
              "      cursor: pointer;\n",
              "      display: none;\n",
              "      fill: #1967D2;\n",
              "      height: 32px;\n",
              "      padding: 0 0 0 0;\n",
              "      width: 32px;\n",
              "    }\n",
              "\n",
              "    .colab-df-convert:hover {\n",
              "      background-color: #E2EBFA;\n",
              "      box-shadow: 0px 1px 2px rgba(60, 64, 67, 0.3), 0px 1px 3px 1px rgba(60, 64, 67, 0.15);\n",
              "      fill: #174EA6;\n",
              "    }\n",
              "\n",
              "    [theme=dark] .colab-df-convert {\n",
              "      background-color: #3B4455;\n",
              "      fill: #D2E3FC;\n",
              "    }\n",
              "\n",
              "    [theme=dark] .colab-df-convert:hover {\n",
              "      background-color: #434B5C;\n",
              "      box-shadow: 0px 1px 3px 1px rgba(0, 0, 0, 0.15);\n",
              "      filter: drop-shadow(0px 1px 2px rgba(0, 0, 0, 0.3));\n",
              "      fill: #FFFFFF;\n",
              "    }\n",
              "  </style>\n",
              "\n",
              "      <script>\n",
              "        const buttonEl =\n",
              "          document.querySelector('#df-430dc22d-1072-4543-8903-c74459dc2b15 button.colab-df-convert');\n",
              "        buttonEl.style.display =\n",
              "          google.colab.kernel.accessAllowed ? 'block' : 'none';\n",
              "\n",
              "        async function convertToInteractive(key) {\n",
              "          const element = document.querySelector('#df-430dc22d-1072-4543-8903-c74459dc2b15');\n",
              "          const dataTable =\n",
              "            await google.colab.kernel.invokeFunction('convertToInteractive',\n",
              "                                                     [key], {});\n",
              "          if (!dataTable) return;\n",
              "\n",
              "          const docLinkHtml = 'Like what you see? Visit the ' +\n",
              "            '<a target=\"_blank\" href=https://colab.research.google.com/notebooks/data_table.ipynb>data table notebook</a>'\n",
              "            + ' to learn more about interactive tables.';\n",
              "          element.innerHTML = '';\n",
              "          dataTable['output_type'] = 'display_data';\n",
              "          await google.colab.output.renderOutput(dataTable, element);\n",
              "          const docLink = document.createElement('div');\n",
              "          docLink.innerHTML = docLinkHtml;\n",
              "          element.appendChild(docLink);\n",
              "        }\n",
              "      </script>\n",
              "    </div>\n",
              "  </div>\n",
              "  "
            ]
          },
          "metadata": {},
          "execution_count": 14
        }
      ],
      "source": [
        "df.head()"
      ]
    },
    {
      "cell_type": "code",
      "source": [],
      "metadata": {
        "id": "vIdtp0E13Ac_"
      },
      "execution_count": 14,
      "outputs": []
    },
    {
      "cell_type": "code",
      "execution_count": 15,
      "metadata": {
        "colab": {
          "base_uri": "https://localhost:8080/"
        },
        "id": "Xpbp7nOaG1gs",
        "outputId": "ea33f63e-915a-4a3c-ddc5-7605bbb85d44"
      },
      "outputs": [
        {
          "output_type": "execute_result",
          "data": {
            "text/plain": [
              "(86, Index(['approxdate', 'resolution', 'location', 'summary', 'alternative',\n",
              "        'alternative_txt', 'attacktype2', 'attacktype2_txt', 'attacktype3',\n",
              "        'attacktype3_txt', 'targtype2', 'targtype2_txt', 'targsubtype2',\n",
              "        'targsubtype2_txt', 'corp2', 'target2', 'natlty2', 'natlty2_txt',\n",
              "        'targtype3', 'targtype3_txt', 'targsubtype3', 'targsubtype3_txt',\n",
              "        'corp3', 'target3', 'natlty3', 'natlty3_txt', 'gsubname', 'gname2',\n",
              "        'gsubname2', 'gname3', 'gsubname3', 'motive', 'guncertain2',\n",
              "        'guncertain3', 'nperps', 'nperpcap', 'claimed', 'claimmode',\n",
              "        'claimmode_txt', 'claim2', 'claimmode2', 'claimmode2_txt', 'claim3',\n",
              "        'claimmode3', 'claimmode3_txt', 'compclaim', 'weaptype2',\n",
              "        'weaptype2_txt', 'weapsubtype2', 'weapsubtype2_txt', 'weaptype3',\n",
              "        'weaptype3_txt', 'weapsubtype3', 'weapsubtype3_txt', 'weaptype4',\n",
              "        'weaptype4_txt', 'weapsubtype4', 'weapsubtype4_txt', 'weapdetail',\n",
              "        'nkillus', 'nwoundus', 'nwoundte', 'propextent', 'propextent_txt',\n",
              "        'propvalue', 'propcomment', 'nhostkid', 'nhostkidus', 'nhours', 'ndays',\n",
              "        'divert', 'kidhijcountry', 'ransom', 'ransomamt', 'ransomamtus',\n",
              "        'ransompaid', 'ransompaidus', 'ransomnote', 'hostkidoutcome',\n",
              "        'hostkidoutcome_txt', 'nreleased', 'addnotes', 'scite1', 'scite2',\n",
              "        'scite3', 'related'],\n",
              "       dtype='object'))"
            ]
          },
          "metadata": {},
          "execution_count": 15
        }
      ],
      "source": [
        "# checking for columns with more than 35% of the values as null\n",
        "drop_column=(df.columns[(df.isnull().sum()/df.shape[0])>0.35]).drop(\"nkillter\")\n",
        "len(drop_column), drop_column"
      ]
    },
    {
      "cell_type": "code",
      "execution_count": 16,
      "metadata": {
        "colab": {
          "base_uri": "https://localhost:8080/"
        },
        "id": "e_agrhKlJDxg",
        "outputId": "3ae0ce49-627b-4d39-f3e7-9859d3332922"
      },
      "outputs": [
        {
          "output_type": "execute_result",
          "data": {
            "text/plain": [
              "(181691, 49)"
            ]
          },
          "metadata": {},
          "execution_count": 16
        }
      ],
      "source": [
        "# dropping the less populated columns\n",
        "df.drop(columns=drop_column,inplace=True)\n",
        "df.shape\n"
      ]
    },
    {
      "cell_type": "code",
      "execution_count": 17,
      "metadata": {
        "colab": {
          "base_uri": "https://localhost:8080/"
        },
        "id": "tQYBw0jEPZXw",
        "outputId": "c11a5e5d-584b-47c2-ad6f-40eba3a4eb36"
      },
      "outputs": [
        {
          "output_type": "execute_result",
          "data": {
            "text/plain": [
              "(181691, 48)"
            ]
          },
          "metadata": {},
          "execution_count": 17
        }
      ],
      "source": [
        "# setting index as event id since it is unique for every event\n",
        "df=df.set_index(\"eventid\")\n",
        "df.shape"
      ]
    },
    {
      "cell_type": "code",
      "execution_count": 18,
      "metadata": {
        "colab": {
          "base_uri": "https://localhost:8080/"
        },
        "id": "J0LdM_J84U0t",
        "outputId": "80d90f3d-f89a-4de3-a696-ae8d4ae03ca0"
      },
      "outputs": [
        {
          "output_type": "execute_result",
          "data": {
            "text/plain": [
              "iyear                   0\n",
              "imonth                  0\n",
              "iday                    0\n",
              "extended                0\n",
              "country                 0\n",
              "country_txt             0\n",
              "region                  0\n",
              "region_txt              0\n",
              "provstate             421\n",
              "city                  434\n",
              "latitude             4556\n",
              "longitude            4557\n",
              "specificity             6\n",
              "vicinity                0\n",
              "crit1                   0\n",
              "crit2                   0\n",
              "crit3                   0\n",
              "doubtterr               1\n",
              "multiple                1\n",
              "success                 0\n",
              "suicide                 0\n",
              "attacktype1             0\n",
              "attacktype1_txt         0\n",
              "targtype1               0\n",
              "targtype1_txt           0\n",
              "targsubtype1        10373\n",
              "targsubtype1_txt    10373\n",
              "corp1               42550\n",
              "target1               636\n",
              "natlty1              1559\n",
              "natlty1_txt          1559\n",
              "gname                   0\n",
              "guncertain1           380\n",
              "individual              0\n",
              "weaptype1               0\n",
              "weaptype1_txt           0\n",
              "weapsubtype1        20768\n",
              "weapsubtype1_txt    20768\n",
              "nkill               10313\n",
              "nkillter            66958\n",
              "nwound              16311\n",
              "property                0\n",
              "ishostkid             178\n",
              "dbsource                0\n",
              "INT_LOG                 0\n",
              "INT_IDEO                0\n",
              "INT_MISC                0\n",
              "INT_ANY                 0\n",
              "dtype: int64"
            ]
          },
          "metadata": {},
          "execution_count": 18
        }
      ],
      "source": [
        "# null values in each column\n",
        "(df.isnull().sum())\n",
        "# *100/df.shape[0]).sort_values(ascending=False)\n",
        "# .sort_values(ascending=False).head(30)"
      ]
    },
    {
      "cell_type": "code",
      "execution_count": 19,
      "metadata": {
        "id": "RjHDzSZkn0Xh"
      },
      "outputs": [],
      "source": [
        "# df[\"weapsubtype1_txt\"].value_counts()"
      ]
    },
    {
      "cell_type": "code",
      "execution_count": 20,
      "metadata": {
        "id": "0-lxKYQFmdVH"
      },
      "outputs": [],
      "source": [
        "# df[\"specificity\"].value_counts()"
      ]
    },
    {
      "cell_type": "markdown",
      "metadata": {
        "id": "nV6sR2pFm8SY"
      },
      "source": [
        "<b>1) \"Specificity\" has value \"5\" 4550 times and 6 null values, which have led to 4556 null values in latitude/longitude,\n",
        "\n",
        " so we will turn null values to 5"
      ]
    },
    {
      "cell_type": "code",
      "execution_count": 21,
      "metadata": {
        "id": "Lm0aVWcxfZIv"
      },
      "outputs": [],
      "source": [
        "#handling null values\n",
        "df[[\"provstate\",\"city\",\"targsubtype1_txt\",\"natlty1_txt\",\"target1\",\"corp1\"]]=df[[\"provstate\",\"city\",\"targsubtype1_txt\",\"natlty1_txt\",\"target1\",\"corp1\"]].fillna(\"Unknown\")\n",
        "df[[\"weapsubtype1_txt\"]]=df[[\"weapsubtype1_txt\"]].fillna(\"Unknown Weapon Type\")\n",
        "df[[\"targsubtype1\",\"weapsubtype1\",\"natlty1\"]]=df[[\"targsubtype1\",\"weapsubtype1\",\"natlty1\"]].fillna(-1)\n",
        "df[[\"specificity\"]]=df[[\"specificity\"]].fillna(5)\n",
        "df[[\"doubtterr\",\"ishostkid\"]]=df[[\"doubtterr\",\"ishostkid\"]].fillna(-9)\n",
        "df[[\"multiple\",\"nkill\",\"nkillter\",\"nwound\"]]=df[[\"multiple\",\"nkill\",\"nkillter\",\"nwound\"]].fillna(0)\n",
        "\n",
        "df.drop(columns=[\"guncertain1\"],inplace=True)"
      ]
    },
    {
      "cell_type": "code",
      "execution_count": 22,
      "metadata": {
        "colab": {
          "base_uri": "https://localhost:8080/"
        },
        "id": "i1UmivQvuFiU",
        "outputId": "6b6ad2d2-8669-4c80-f7f3-64deedff5cce"
      },
      "outputs": [
        {
          "output_type": "execute_result",
          "data": {
            "text/plain": [
              "iyear                  0\n",
              "imonth                 0\n",
              "iday                   0\n",
              "extended               0\n",
              "country                0\n",
              "country_txt            0\n",
              "region                 0\n",
              "region_txt             0\n",
              "provstate              0\n",
              "city                   0\n",
              "latitude            4556\n",
              "longitude           4557\n",
              "specificity            0\n",
              "vicinity               0\n",
              "crit1                  0\n",
              "crit2                  0\n",
              "crit3                  0\n",
              "doubtterr              0\n",
              "multiple               0\n",
              "success                0\n",
              "suicide                0\n",
              "attacktype1            0\n",
              "attacktype1_txt        0\n",
              "targtype1              0\n",
              "targtype1_txt          0\n",
              "targsubtype1           0\n",
              "targsubtype1_txt       0\n",
              "corp1                  0\n",
              "target1                0\n",
              "natlty1                0\n",
              "natlty1_txt            0\n",
              "gname                  0\n",
              "individual             0\n",
              "weaptype1              0\n",
              "weaptype1_txt          0\n",
              "weapsubtype1           0\n",
              "weapsubtype1_txt       0\n",
              "nkill                  0\n",
              "nkillter               0\n",
              "nwound                 0\n",
              "property               0\n",
              "ishostkid              0\n",
              "dbsource               0\n",
              "INT_LOG                0\n",
              "INT_IDEO               0\n",
              "INT_MISC               0\n",
              "INT_ANY                0\n",
              "dtype: int64"
            ]
          },
          "metadata": {},
          "execution_count": 22
        }
      ],
      "source": [
        "(df.isnull().sum())"
      ]
    }
  ]
}